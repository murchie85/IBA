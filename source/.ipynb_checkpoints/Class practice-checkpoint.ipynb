{
 "cells": [
  {
   "cell_type": "code",
   "execution_count": 5,
   "metadata": {},
   "outputs": [
    {
     "name": "stdout",
     "output_type": "stream",
     "text": [
      "<__main__.Employee object at 0x103488390>\n",
      "<__main__.Employee object at 0x103488438>\n",
      "corey\n",
      "bob.cunt@company.com\n"
     ]
    }
   ],
   "source": [
    "# pyton OOO \n",
    "\n",
    "\n",
    "class Employee:\n",
    "\t# this is like the constructore\n",
    "\t#when we create methods in a class  they receive the instance as the first argument automatically\n",
    "\t#we call it self, but this is convention\n",
    "\t#after self we specify what args we want to accept\n",
    "\tdef __init__(self, first, last, pay):\n",
    "\t\tself.first = first # the same as saying emp_1.first = 'Corey', this is done automatically when we create emp_1 Employee objects\n",
    "\t\tself.last = last\n",
    "\t\tself.pay = pay\n",
    "\t\tself.email = first + '.' + last + '@company.com'\n",
    "\n",
    "emp_1 = Employee('corey', 'cumgullet', '50000')# don't need to pass self (the instance)\n",
    "emp_2 = Employee('bob', 'cunt', '20000')\n",
    "\n",
    "print(emp_1)\n",
    "print(emp_2)\n",
    "\n",
    "print(emp_1.first)\n",
    "print(emp_2.email)"
   ]
  },
  {
   "cell_type": "code",
   "execution_count": null,
   "metadata": {
    "collapsed": true
   },
   "outputs": [],
   "source": []
  }
 ],
 "metadata": {
  "kernelspec": {
   "display_name": "Python 3",
   "language": "python",
   "name": "python3"
  },
  "language_info": {
   "codemirror_mode": {
    "name": "ipython",
    "version": 3
   },
   "file_extension": ".py",
   "mimetype": "text/x-python",
   "name": "python",
   "nbconvert_exporter": "python",
   "pygments_lexer": "ipython3",
   "version": "3.6.1"
  }
 },
 "nbformat": 4,
 "nbformat_minor": 2
}
